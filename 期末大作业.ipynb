{
 "cells": [
  {
   "cell_type": "markdown",
   "metadata": {},
   "source": [
    "导入库"
   ]
  },
  {
   "cell_type": "code",
   "execution_count": 272,
   "metadata": {},
   "outputs": [],
   "source": [
    "import pandas as pd\n",
    "import matplotlib.pyplot as plt\n",
    "import seaborn as sns\n",
    "import warnings\n",
    "import numpy as np\n",
    "warnings.filterwarnings('ignore')"
   ]
  },
  {
   "cell_type": "markdown",
   "metadata": {},
   "source": [
    "导入训练数据和测试数据"
   ]
  },
  {
   "cell_type": "code",
   "execution_count": 273,
   "metadata": {},
   "outputs": [
    {
     "name": "stdout",
     "output_type": "stream",
     "text": [
      "(1100, 32)\n"
     ]
    },
    {
     "data": {
      "text/html": [
       "<div>\n",
       "<style scoped>\n",
       "    .dataframe tbody tr th:only-of-type {\n",
       "        vertical-align: middle;\n",
       "    }\n",
       "\n",
       "    .dataframe tbody tr th {\n",
       "        vertical-align: top;\n",
       "    }\n",
       "\n",
       "    .dataframe thead th {\n",
       "        text-align: right;\n",
       "    }\n",
       "</style>\n",
       "<table border=\"1\" class=\"dataframe\">\n",
       "  <thead>\n",
       "    <tr style=\"text-align: right;\">\n",
       "      <th></th>\n",
       "      <th>ID</th>\n",
       "      <th>Age</th>\n",
       "      <th>BusinessTravel</th>\n",
       "      <th>Department</th>\n",
       "      <th>DistanceFromHome</th>\n",
       "      <th>Education</th>\n",
       "      <th>EducationField</th>\n",
       "      <th>EmployeeNumber</th>\n",
       "      <th>EnvironmentSatisfaction</th>\n",
       "      <th>Gender</th>\n",
       "      <th>...</th>\n",
       "      <th>StandardHours</th>\n",
       "      <th>StockOptionLevel</th>\n",
       "      <th>TotalWorkingYears</th>\n",
       "      <th>TrainingTimesLastYear</th>\n",
       "      <th>WorkLifeBalance</th>\n",
       "      <th>YearsAtCompany</th>\n",
       "      <th>YearsInCurrentRole</th>\n",
       "      <th>YearsSinceLastPromotion</th>\n",
       "      <th>YearsWithCurrManager</th>\n",
       "      <th>Label</th>\n",
       "    </tr>\n",
       "  </thead>\n",
       "  <tbody>\n",
       "    <tr>\n",
       "      <th>0</th>\n",
       "      <td>0</td>\n",
       "      <td>37</td>\n",
       "      <td>Travel_Rarely</td>\n",
       "      <td>Research &amp; Development</td>\n",
       "      <td>1</td>\n",
       "      <td>4</td>\n",
       "      <td>Life Sciences</td>\n",
       "      <td>77</td>\n",
       "      <td>1</td>\n",
       "      <td>Male</td>\n",
       "      <td>...</td>\n",
       "      <td>80</td>\n",
       "      <td>1</td>\n",
       "      <td>7</td>\n",
       "      <td>2</td>\n",
       "      <td>4</td>\n",
       "      <td>7</td>\n",
       "      <td>5</td>\n",
       "      <td>0</td>\n",
       "      <td>7</td>\n",
       "      <td>0</td>\n",
       "    </tr>\n",
       "    <tr>\n",
       "      <th>1</th>\n",
       "      <td>1</td>\n",
       "      <td>54</td>\n",
       "      <td>Travel_Frequently</td>\n",
       "      <td>Research &amp; Development</td>\n",
       "      <td>1</td>\n",
       "      <td>4</td>\n",
       "      <td>Life Sciences</td>\n",
       "      <td>1245</td>\n",
       "      <td>4</td>\n",
       "      <td>Female</td>\n",
       "      <td>...</td>\n",
       "      <td>80</td>\n",
       "      <td>1</td>\n",
       "      <td>33</td>\n",
       "      <td>2</td>\n",
       "      <td>1</td>\n",
       "      <td>5</td>\n",
       "      <td>4</td>\n",
       "      <td>1</td>\n",
       "      <td>4</td>\n",
       "      <td>0</td>\n",
       "    </tr>\n",
       "  </tbody>\n",
       "</table>\n",
       "<p>2 rows × 32 columns</p>\n",
       "</div>"
      ],
      "text/plain": [
       "   ID  Age     BusinessTravel              Department  DistanceFromHome  \\\n",
       "0   0   37      Travel_Rarely  Research & Development                 1   \n",
       "1   1   54  Travel_Frequently  Research & Development                 1   \n",
       "\n",
       "   Education EducationField  EmployeeNumber  EnvironmentSatisfaction  Gender  \\\n",
       "0          4  Life Sciences              77                        1    Male   \n",
       "1          4  Life Sciences            1245                        4  Female   \n",
       "\n",
       "   ...  StandardHours  StockOptionLevel TotalWorkingYears  \\\n",
       "0  ...             80                 1                 7   \n",
       "1  ...             80                 1                33   \n",
       "\n",
       "   TrainingTimesLastYear WorkLifeBalance  YearsAtCompany  YearsInCurrentRole  \\\n",
       "0                      2               4               7                   5   \n",
       "1                      2               1               5                   4   \n",
       "\n",
       "  YearsSinceLastPromotion YearsWithCurrManager  Label  \n",
       "0                       0                    7      0  \n",
       "1                       1                    4      0  \n",
       "\n",
       "[2 rows x 32 columns]"
      ]
     },
     "execution_count": 273,
     "metadata": {},
     "output_type": "execute_result"
    }
   ],
   "source": [
    "train = pd.read_csv('E:\\\\python code\\\\期末大作业\\\\train.csv')\n",
    "test = pd.read_csv('E:\\\\python code\\\\期末大作业\\\\test_noLabel.csv')\n",
    "print(train.shape)\n",
    "train.head(2)"
   ]
  },
  {
   "cell_type": "markdown",
   "metadata": {},
   "source": [
    "绘制相关性系数图"
   ]
  },
  {
   "cell_type": "code",
   "execution_count": 274,
   "metadata": {},
   "outputs": [
    {
     "data": {
      "text/plain": [
       "0    922\n",
       "1    178\n",
       "Name: Label, dtype: int64"
      ]
     },
     "execution_count": 274,
     "metadata": {},
     "output_type": "execute_result"
    }
   ],
   "source": [
    "train['Label'].value_counts()"
   ]
  },
  {
   "cell_type": "markdown",
   "metadata": {},
   "source": [
    "观察是否有缺失值"
   ]
  },
  {
   "cell_type": "code",
   "execution_count": 275,
   "metadata": {},
   "outputs": [
    {
     "name": "stdout",
     "output_type": "stream",
     "text": [
      "<class 'pandas.core.frame.DataFrame'>\n",
      "RangeIndex: 1100 entries, 0 to 1099\n",
      "Data columns (total 32 columns):\n",
      " #   Column                    Non-Null Count  Dtype \n",
      "---  ------                    --------------  ----- \n",
      " 0   ID                        1100 non-null   int64 \n",
      " 1   Age                       1100 non-null   int64 \n",
      " 2   BusinessTravel            1100 non-null   object\n",
      " 3   Department                1100 non-null   object\n",
      " 4   DistanceFromHome          1100 non-null   int64 \n",
      " 5   Education                 1100 non-null   int64 \n",
      " 6   EducationField            1100 non-null   object\n",
      " 7   EmployeeNumber            1100 non-null   int64 \n",
      " 8   EnvironmentSatisfaction   1100 non-null   int64 \n",
      " 9   Gender                    1100 non-null   object\n",
      " 10  JobInvolvement            1100 non-null   int64 \n",
      " 11  JobLevel                  1100 non-null   int64 \n",
      " 12  JobRole                   1100 non-null   object\n",
      " 13  JobSatisfaction           1100 non-null   int64 \n",
      " 14  MaritalStatus             1100 non-null   object\n",
      " 15  MonthlyIncome             1100 non-null   int64 \n",
      " 16  NumCompaniesWorked        1100 non-null   int64 \n",
      " 17  Over18                    1100 non-null   object\n",
      " 18  OverTime                  1100 non-null   object\n",
      " 19  PercentSalaryHike         1100 non-null   int64 \n",
      " 20  PerformanceRating         1100 non-null   int64 \n",
      " 21  RelationshipSatisfaction  1100 non-null   int64 \n",
      " 22  StandardHours             1100 non-null   int64 \n",
      " 23  StockOptionLevel          1100 non-null   int64 \n",
      " 24  TotalWorkingYears         1100 non-null   int64 \n",
      " 25  TrainingTimesLastYear     1100 non-null   int64 \n",
      " 26  WorkLifeBalance           1100 non-null   int64 \n",
      " 27  YearsAtCompany            1100 non-null   int64 \n",
      " 28  YearsInCurrentRole        1100 non-null   int64 \n",
      " 29  YearsSinceLastPromotion   1100 non-null   int64 \n",
      " 30  YearsWithCurrManager      1100 non-null   int64 \n",
      " 31  Label                     1100 non-null   int64 \n",
      "dtypes: int64(24), object(8)\n",
      "memory usage: 275.1+ KB\n",
      "<class 'pandas.core.frame.DataFrame'>\n",
      "RangeIndex: 350 entries, 0 to 349\n",
      "Data columns (total 31 columns):\n",
      " #   Column                    Non-Null Count  Dtype \n",
      "---  ------                    --------------  ----- \n",
      " 0   ID                        350 non-null    int64 \n",
      " 1   Age                       350 non-null    int64 \n",
      " 2   BusinessTravel            350 non-null    object\n",
      " 3   Department                350 non-null    object\n",
      " 4   DistanceFromHome          350 non-null    int64 \n",
      " 5   Education                 350 non-null    int64 \n",
      " 6   EducationField            350 non-null    object\n",
      " 7   EmployeeNumber            350 non-null    int64 \n",
      " 8   EnvironmentSatisfaction   350 non-null    int64 \n",
      " 9   Gender                    350 non-null    object\n",
      " 10  JobInvolvement            350 non-null    int64 \n",
      " 11  JobLevel                  350 non-null    int64 \n",
      " 12  JobRole                   350 non-null    object\n",
      " 13  JobSatisfaction           350 non-null    int64 \n",
      " 14  MaritalStatus             350 non-null    object\n",
      " 15  MonthlyIncome             350 non-null    int64 \n",
      " 16  NumCompaniesWorked        350 non-null    int64 \n",
      " 17  Over18                    350 non-null    object\n",
      " 18  OverTime                  350 non-null    object\n",
      " 19  PercentSalaryHike         350 non-null    int64 \n",
      " 20  PerformanceRating         350 non-null    int64 \n",
      " 21  RelationshipSatisfaction  350 non-null    int64 \n",
      " 22  StandardHours             350 non-null    int64 \n",
      " 23  StockOptionLevel          350 non-null    int64 \n",
      " 24  TotalWorkingYears         350 non-null    int64 \n",
      " 25  TrainingTimesLastYear     350 non-null    int64 \n",
      " 26  WorkLifeBalance           350 non-null    int64 \n",
      " 27  YearsAtCompany            350 non-null    int64 \n",
      " 28  YearsInCurrentRole        350 non-null    int64 \n",
      " 29  YearsSinceLastPromotion   350 non-null    int64 \n",
      " 30  YearsWithCurrManager      350 non-null    int64 \n",
      "dtypes: int64(23), object(8)\n",
      "memory usage: 84.9+ KB\n"
     ]
    }
   ],
   "source": [
    "train.info()\n",
    "test.info()"
   ]
  },
  {
   "cell_type": "markdown",
   "metadata": {},
   "source": [
    "观察到train和test中均无缺失值"
   ]
  },
  {
   "cell_type": "markdown",
   "metadata": {},
   "source": [
    "开始合并"
   ]
  },
  {
   "cell_type": "code",
   "execution_count": 276,
   "metadata": {},
   "outputs": [
    {
     "name": "stdout",
     "output_type": "stream",
     "text": [
      "<class 'pandas.core.frame.DataFrame'>\n",
      "Int64Index: 1450 entries, 0 to 349\n",
      "Data columns (total 32 columns):\n",
      " #   Column                    Non-Null Count  Dtype  \n",
      "---  ------                    --------------  -----  \n",
      " 0   ID                        1450 non-null   int64  \n",
      " 1   Age                       1450 non-null   int64  \n",
      " 2   BusinessTravel            1450 non-null   object \n",
      " 3   Department                1450 non-null   object \n",
      " 4   DistanceFromHome          1450 non-null   int64  \n",
      " 5   Education                 1450 non-null   int64  \n",
      " 6   EducationField            1450 non-null   object \n",
      " 7   EmployeeNumber            1450 non-null   int64  \n",
      " 8   EnvironmentSatisfaction   1450 non-null   int64  \n",
      " 9   Gender                    1450 non-null   object \n",
      " 10  JobInvolvement            1450 non-null   int64  \n",
      " 11  JobLevel                  1450 non-null   int64  \n",
      " 12  JobRole                   1450 non-null   object \n",
      " 13  JobSatisfaction           1450 non-null   int64  \n",
      " 14  MaritalStatus             1450 non-null   object \n",
      " 15  MonthlyIncome             1450 non-null   int64  \n",
      " 16  NumCompaniesWorked        1450 non-null   int64  \n",
      " 17  Over18                    1450 non-null   object \n",
      " 18  OverTime                  1450 non-null   object \n",
      " 19  PercentSalaryHike         1450 non-null   int64  \n",
      " 20  PerformanceRating         1450 non-null   int64  \n",
      " 21  RelationshipSatisfaction  1450 non-null   int64  \n",
      " 22  StandardHours             1450 non-null   int64  \n",
      " 23  StockOptionLevel          1450 non-null   int64  \n",
      " 24  TotalWorkingYears         1450 non-null   int64  \n",
      " 25  TrainingTimesLastYear     1450 non-null   int64  \n",
      " 26  WorkLifeBalance           1450 non-null   int64  \n",
      " 27  YearsAtCompany            1450 non-null   int64  \n",
      " 28  YearsInCurrentRole        1450 non-null   int64  \n",
      " 29  YearsSinceLastPromotion   1450 non-null   int64  \n",
      " 30  YearsWithCurrManager      1450 non-null   int64  \n",
      " 31  Label                     1100 non-null   float64\n",
      "dtypes: float64(1), int64(23), object(8)\n",
      "memory usage: 373.8+ KB\n",
      "合并后一共1450条数据\n"
     ]
    }
   ],
   "source": [
    "data = train.append(test)\n",
    "data.info()\n",
    "print('合并后一共{0}条数据'.format(data.shape[0]))"
   ]
  },
  {
   "cell_type": "code",
   "execution_count": 277,
   "metadata": {},
   "outputs": [
    {
     "data": {
      "text/plain": [
       "<AxesSubplot:>"
      ]
     },
     "execution_count": 277,
     "metadata": {},
     "output_type": "execute_result"
    },
    {
     "data": {
      "image/png": "[encoded data removed]",
      "text/plain": [
       "<Figure size 640x480 with 2 Axes>"
      ]
     },
     "metadata": {},
     "output_type": "display_data"
    }
   ],
   "source": [
    "corrmat = data.corr()\n",
    "sns.heatmap(corrmat,vmax=0.9,square = True)"
   ]
  },
  {
   "cell_type": "markdown",
   "metadata": {},
   "source": [
    "观察热力图可知，StandardHours可剔除"
   ]
  },
  {
   "cell_type": "code",
   "execution_count": 278,
   "metadata": {},
   "outputs": [],
   "source": [
    "data.drop(['StandardHours'],axis=1,inplace=True)"
   ]
  },
  {
   "cell_type": "code",
   "execution_count": 279,
   "metadata": {},
   "outputs": [
    {
     "data": {
      "text/html": [
       "<div>\n",
       "<style scoped>\n",
       "    .dataframe tbody tr th:only-of-type {\n",
       "        vertical-align: middle;\n",
       "    }\n",
       "\n",
       "    .dataframe tbody tr th {\n",
       "        vertical-align: top;\n",
       "    }\n",
       "\n",
       "    .dataframe thead th {\n",
       "        text-align: right;\n",
       "    }\n",
       "</style>\n",
       "<table border=\"1\" class=\"dataframe\">\n",
       "  <thead>\n",
       "    <tr style=\"text-align: right;\">\n",
       "      <th></th>\n",
       "      <th>ID</th>\n",
       "      <th>Age</th>\n",
       "      <th>DistanceFromHome</th>\n",
       "      <th>Education</th>\n",
       "      <th>EmployeeNumber</th>\n",
       "      <th>EnvironmentSatisfaction</th>\n",
       "      <th>JobInvolvement</th>\n",
       "      <th>JobLevel</th>\n",
       "      <th>JobSatisfaction</th>\n",
       "      <th>MonthlyIncome</th>\n",
       "      <th>...</th>\n",
       "      <th>RelationshipSatisfaction</th>\n",
       "      <th>StockOptionLevel</th>\n",
       "      <th>TotalWorkingYears</th>\n",
       "      <th>TrainingTimesLastYear</th>\n",
       "      <th>WorkLifeBalance</th>\n",
       "      <th>YearsAtCompany</th>\n",
       "      <th>YearsInCurrentRole</th>\n",
       "      <th>YearsSinceLastPromotion</th>\n",
       "      <th>YearsWithCurrManager</th>\n",
       "      <th>Label</th>\n",
       "    </tr>\n",
       "  </thead>\n",
       "  <tbody>\n",
       "    <tr>\n",
       "      <th>count</th>\n",
       "      <td>1450.000000</td>\n",
       "      <td>1450.000000</td>\n",
       "      <td>1450.000000</td>\n",
       "      <td>1450.000000</td>\n",
       "      <td>1450.000000</td>\n",
       "      <td>1450.000000</td>\n",
       "      <td>1450.000000</td>\n",
       "      <td>1450.000000</td>\n",
       "      <td>1450.000000</td>\n",
       "      <td>1450.000000</td>\n",
       "      <td>...</td>\n",
       "      <td>1450.000000</td>\n",
       "      <td>1450.000000</td>\n",
       "      <td>1450.000000</td>\n",
       "      <td>1450.000000</td>\n",
       "      <td>1450.000000</td>\n",
       "      <td>1450.000000</td>\n",
       "      <td>1450.000000</td>\n",
       "      <td>1450.00000</td>\n",
       "      <td>1450.000000</td>\n",
       "      <td>1100.000000</td>\n",
       "    </tr>\n",
       "    <tr>\n",
       "      <th>mean</th>\n",
       "      <td>724.500000</td>\n",
       "      <td>36.871724</td>\n",
       "      <td>9.177241</td>\n",
       "      <td>2.909655</td>\n",
       "      <td>1026.981379</td>\n",
       "      <td>2.722759</td>\n",
       "      <td>2.731724</td>\n",
       "      <td>2.057931</td>\n",
       "      <td>2.731034</td>\n",
       "      <td>6482.624138</td>\n",
       "      <td>...</td>\n",
       "      <td>2.708276</td>\n",
       "      <td>0.795172</td>\n",
       "      <td>11.217241</td>\n",
       "      <td>2.801379</td>\n",
       "      <td>2.761379</td>\n",
       "      <td>6.956552</td>\n",
       "      <td>4.220000</td>\n",
       "      <td>2.16000</td>\n",
       "      <td>4.097931</td>\n",
       "      <td>0.161818</td>\n",
       "    </tr>\n",
       "    <tr>\n",
       "      <th>std</th>\n",
       "      <td>418.723258</td>\n",
       "      <td>9.119033</td>\n",
       "      <td>8.085783</td>\n",
       "      <td>1.023925</td>\n",
       "      <td>602.029616</td>\n",
       "      <td>1.090314</td>\n",
       "      <td>0.711068</td>\n",
       "      <td>1.103084</td>\n",
       "      <td>1.103074</td>\n",
       "      <td>4694.115546</td>\n",
       "      <td>...</td>\n",
       "      <td>1.082390</td>\n",
       "      <td>0.853752</td>\n",
       "      <td>7.738772</td>\n",
       "      <td>1.292009</td>\n",
       "      <td>0.706588</td>\n",
       "      <td>6.053036</td>\n",
       "      <td>3.617954</td>\n",
       "      <td>3.18867</td>\n",
       "      <td>3.546603</td>\n",
       "      <td>0.368451</td>\n",
       "    </tr>\n",
       "    <tr>\n",
       "      <th>min</th>\n",
       "      <td>0.000000</td>\n",
       "      <td>18.000000</td>\n",
       "      <td>1.000000</td>\n",
       "      <td>1.000000</td>\n",
       "      <td>1.000000</td>\n",
       "      <td>1.000000</td>\n",
       "      <td>1.000000</td>\n",
       "      <td>1.000000</td>\n",
       "      <td>1.000000</td>\n",
       "      <td>1009.000000</td>\n",
       "      <td>...</td>\n",
       "      <td>1.000000</td>\n",
       "      <td>0.000000</td>\n",
       "      <td>0.000000</td>\n",
       "      <td>0.000000</td>\n",
       "      <td>1.000000</td>\n",
       "      <td>0.000000</td>\n",
       "      <td>0.000000</td>\n",
       "      <td>0.00000</td>\n",
       "      <td>0.000000</td>\n",
       "      <td>0.000000</td>\n",
       "    </tr>\n",
       "    <tr>\n",
       "      <th>25%</th>\n",
       "      <td>362.250000</td>\n",
       "      <td>30.000000</td>\n",
       "      <td>2.000000</td>\n",
       "      <td>2.000000</td>\n",
       "      <td>494.250000</td>\n",
       "      <td>2.000000</td>\n",
       "      <td>2.000000</td>\n",
       "      <td>1.000000</td>\n",
       "      <td>2.000000</td>\n",
       "      <td>2909.500000</td>\n",
       "      <td>...</td>\n",
       "      <td>2.000000</td>\n",
       "      <td>0.000000</td>\n",
       "      <td>6.000000</td>\n",
       "      <td>2.000000</td>\n",
       "      <td>2.000000</td>\n",
       "      <td>3.000000</td>\n",
       "      <td>2.000000</td>\n",
       "      <td>0.00000</td>\n",
       "      <td>2.000000</td>\n",
       "      <td>0.000000</td>\n",
       "    </tr>\n",
       "    <tr>\n",
       "      <th>50%</th>\n",
       "      <td>724.500000</td>\n",
       "      <td>36.000000</td>\n",
       "      <td>7.000000</td>\n",
       "      <td>3.000000</td>\n",
       "      <td>1023.000000</td>\n",
       "      <td>3.000000</td>\n",
       "      <td>3.000000</td>\n",
       "      <td>2.000000</td>\n",
       "      <td>3.000000</td>\n",
       "      <td>4903.500000</td>\n",
       "      <td>...</td>\n",
       "      <td>3.000000</td>\n",
       "      <td>1.000000</td>\n",
       "      <td>10.000000</td>\n",
       "      <td>3.000000</td>\n",
       "      <td>3.000000</td>\n",
       "      <td>5.000000</td>\n",
       "      <td>3.000000</td>\n",
       "      <td>1.00000</td>\n",
       "      <td>3.000000</td>\n",
       "      <td>0.000000</td>\n",
       "    </tr>\n",
       "    <tr>\n",
       "      <th>75%</th>\n",
       "      <td>1086.750000</td>\n",
       "      <td>43.000000</td>\n",
       "      <td>14.000000</td>\n",
       "      <td>4.000000</td>\n",
       "      <td>1559.500000</td>\n",
       "      <td>4.000000</td>\n",
       "      <td>3.000000</td>\n",
       "      <td>3.000000</td>\n",
       "      <td>4.000000</td>\n",
       "      <td>8339.750000</td>\n",
       "      <td>...</td>\n",
       "      <td>4.000000</td>\n",
       "      <td>1.000000</td>\n",
       "      <td>15.000000</td>\n",
       "      <td>3.000000</td>\n",
       "      <td>3.000000</td>\n",
       "      <td>9.000000</td>\n",
       "      <td>7.000000</td>\n",
       "      <td>2.75000</td>\n",
       "      <td>7.000000</td>\n",
       "      <td>0.000000</td>\n",
       "    </tr>\n",
       "    <tr>\n",
       "      <th>max</th>\n",
       "      <td>1449.000000</td>\n",
       "      <td>60.000000</td>\n",
       "      <td>29.000000</td>\n",
       "      <td>5.000000</td>\n",
       "      <td>2068.000000</td>\n",
       "      <td>4.000000</td>\n",
       "      <td>4.000000</td>\n",
       "      <td>5.000000</td>\n",
       "      <td>4.000000</td>\n",
       "      <td>19999.000000</td>\n",
       "      <td>...</td>\n",
       "      <td>4.000000</td>\n",
       "      <td>3.000000</td>\n",
       "      <td>40.000000</td>\n",
       "      <td>6.000000</td>\n",
       "      <td>4.000000</td>\n",
       "      <td>37.000000</td>\n",
       "      <td>18.000000</td>\n",
       "      <td>15.00000</td>\n",
       "      <td>17.000000</td>\n",
       "      <td>1.000000</td>\n",
       "    </tr>\n",
       "  </tbody>\n",
       "</table>\n",
       "<p>8 rows × 23 columns</p>\n",
       "</div>"
      ],
      "text/plain": [
       "                ID          Age  DistanceFromHome    Education  \\\n",
       "count  1450.000000  1450.000000       1450.000000  1450.000000   \n",
       "mean    724.500000    36.871724          9.177241     2.909655   \n",
       "std     418.723258     9.119033          8.085783     1.023925   \n",
       "min       0.000000    18.000000          1.000000     1.000000   \n",
       "25%     362.250000    30.000000          2.000000     2.000000   \n",
       "50%     724.500000    36.000000          7.000000     3.000000   \n",
       "75%    1086.750000    43.000000         14.000000     4.000000   \n",
       "max    1449.000000    60.000000         29.000000     5.000000   \n",
       "\n",
       "       EmployeeNumber  EnvironmentSatisfaction  JobInvolvement     JobLevel  \\\n",
       "count     1450.000000              1450.000000     1450.000000  1450.000000   \n",
       "mean      1026.981379                 2.722759        2.731724     2.057931   \n",
       "std        602.029616                 1.090314        0.711068     1.103084   \n",
       "min          1.000000                 1.000000        1.000000     1.000000   \n",
       "25%        494.250000                 2.000000        2.000000     1.000000   \n",
       "50%       1023.000000                 3.000000        3.000000     2.000000   \n",
       "75%       1559.500000                 4.000000        3.000000     3.000000   \n",
       "max       2068.000000                 4.000000        4.000000     5.000000   \n",
       "\n",
       "       JobSatisfaction  MonthlyIncome  ...  RelationshipSatisfaction  \\\n",
       "count      1450.000000    1450.000000  ...               1450.000000   \n",
       "mean          2.731034    6482.624138  ...                  2.708276   \n",
       "std           1.103074    4694.115546  ...                  1.082390   \n",
       "min           1.000000    1009.000000  ...                  1.000000   \n",
       "25%           2.000000    2909.500000  ...                  2.000000   \n",
       "50%           3.000000    4903.500000  ...                  3.000000   \n",
       "75%           4.000000    8339.750000  ...                  4.000000   \n",
       "max           4.000000   19999.000000  ...                  4.000000   \n",
       "\n",
       "       StockOptionLevel  TotalWorkingYears  TrainingTimesLastYear  \\\n",
       "count       1450.000000        1450.000000            1450.000000   \n",
       "mean           0.795172          11.217241               2.801379   \n",
       "std            0.853752           7.738772               1.292009   \n",
       "min            0.000000           0.000000               0.000000   \n",
       "25%            0.000000           6.000000               2.000000   \n",
       "50%            1.000000          10.000000               3.000000   \n",
       "75%            1.000000          15.000000               3.000000   \n",
       "max            3.000000          40.000000               6.000000   \n",
       "\n",
       "       WorkLifeBalance  YearsAtCompany  YearsInCurrentRole  \\\n",
       "count      1450.000000     1450.000000         1450.000000   \n",
       "mean          2.761379        6.956552            4.220000   \n",
       "std           0.706588        6.053036            3.617954   \n",
       "min           1.000000        0.000000            0.000000   \n",
       "25%           2.000000        3.000000            2.000000   \n",
       "50%           3.000000        5.000000            3.000000   \n",
       "75%           3.000000        9.000000            7.000000   \n",
       "max           4.000000       37.000000           18.000000   \n",
       "\n",
       "       YearsSinceLastPromotion  YearsWithCurrManager        Label  \n",
       "count               1450.00000           1450.000000  1100.000000  \n",
       "mean                   2.16000              4.097931     0.161818  \n",
       "std                    3.18867              3.546603     0.368451  \n",
       "min                    0.00000              0.000000     0.000000  \n",
       "25%                    0.00000              2.000000     0.000000  \n",
       "50%                    1.00000              3.000000     0.000000  \n",
       "75%                    2.75000              7.000000     0.000000  \n",
       "max                   15.00000             17.000000     1.000000  \n",
       "\n",
       "[8 rows x 23 columns]"
      ]
     },
     "execution_count": 279,
     "metadata": {},
     "output_type": "execute_result"
    }
   ],
   "source": [
    "data.describe()"
   ]
  },
  {
   "cell_type": "markdown",
   "metadata": {},
   "source": [
    "观察可知，employeenumber为无用特征，可删除"
   ]
  },
  {
   "cell_type": "code",
   "execution_count": 280,
   "metadata": {},
   "outputs": [],
   "source": [
    "train.drop(['EmployeeNumber'],axis = 1,inplace=True)\n",
    "test.drop(['EmployeeNumber'],axis = 1,inplace=True)\n",
    "data.drop(['EmployeeNumber'],axis = 1,inplace=True)"
   ]
  },
  {
   "cell_type": "markdown",
   "metadata": {},
   "source": [
    "观察年龄结构"
   ]
  },
  {
   "cell_type": "code",
   "execution_count": 281,
   "metadata": {},
   "outputs": [
    {
     "data": {
      "image/png": "[encoded data removed]",
      "text/plain": [
       "<Figure size 640x480 with 1 Axes>"
      ]
     },
     "metadata": {},
     "output_type": "display_data"
    }
   ],
   "source": [
    "data['Age'].plot.box(title = \"AGE 分布\")\n",
    "plt.grid(linestyle='--',alpha = 0.3)\n",
    "plt.show()"
   ]
  },
  {
   "cell_type": "markdown",
   "metadata": {},
   "source": [
    "观察可知，大于十八岁为无用特征，可删除"
   ]
  },
  {
   "cell_type": "code",
   "execution_count": 282,
   "metadata": {},
   "outputs": [],
   "source": [
    "train.drop(['Over18'],axis = 1,inplace=True)\n",
    "test.drop(['Over18'],axis = 1,inplace=True)\n",
    "data.drop(['Over18'],axis = 1,inplace=True)"
   ]
  },
  {
   "cell_type": "markdown",
   "metadata": {},
   "source": [
    "对Object进行独热编码"
   ]
  },
  {
   "cell_type": "code",
   "execution_count": 283,
   "metadata": {},
   "outputs": [],
   "source": [
    "cata_result = pd.DataFrame()\n",
    "for i in data.columns:\n",
    "    if data[i].dtype == 'O':\n",
    "        cata = pd.DataFrame()\n",
    "        cata = pd.get_dummies(data[i],prefix=i)\n",
    "        cata_result = pd.concat([cata_result,cata],axis=1)"
   ]
  },
  {
   "cell_type": "markdown",
   "metadata": {},
   "source": [
    "编码后，删除object变量"
   ]
  },
  {
   "cell_type": "code",
   "execution_count": 284,
   "metadata": {},
   "outputs": [],
   "source": [
    "for i in data.columns:\n",
    "    if data[i].dtype == 'O':\n",
    "        data = data.drop(i,axis=1)"
   ]
  },
  {
   "cell_type": "markdown",
   "metadata": {},
   "source": [
    "进行合并"
   ]
  },
  {
   "cell_type": "code",
   "execution_count": 285,
   "metadata": {},
   "outputs": [],
   "source": [
    "data = pd.concat([data,cata_result],axis=1)"
   ]
  },
  {
   "cell_type": "code",
   "execution_count": 286,
   "metadata": {},
   "outputs": [
    {
     "data": {
      "text/html": [
       "<div>\n",
       "<style scoped>\n",
       "    .dataframe tbody tr th:only-of-type {\n",
       "        vertical-align: middle;\n",
       "    }\n",
       "\n",
       "    .dataframe tbody tr th {\n",
       "        vertical-align: top;\n",
       "    }\n",
       "\n",
       "    .dataframe thead th {\n",
       "        text-align: right;\n",
       "    }\n",
       "</style>\n",
       "<table border=\"1\" class=\"dataframe\">\n",
       "  <thead>\n",
       "    <tr style=\"text-align: right;\">\n",
       "      <th></th>\n",
       "      <th>ID</th>\n",
       "      <th>Age</th>\n",
       "      <th>DistanceFromHome</th>\n",
       "      <th>Education</th>\n",
       "      <th>EnvironmentSatisfaction</th>\n",
       "      <th>JobInvolvement</th>\n",
       "      <th>JobLevel</th>\n",
       "      <th>JobSatisfaction</th>\n",
       "      <th>MonthlyIncome</th>\n",
       "      <th>NumCompaniesWorked</th>\n",
       "      <th>...</th>\n",
       "      <th>JobRole_Manufacturing Director</th>\n",
       "      <th>JobRole_Research Director</th>\n",
       "      <th>JobRole_Research Scientist</th>\n",
       "      <th>JobRole_Sales Executive</th>\n",
       "      <th>JobRole_Sales Representative</th>\n",
       "      <th>MaritalStatus_Divorced</th>\n",
       "      <th>MaritalStatus_Married</th>\n",
       "      <th>MaritalStatus_Single</th>\n",
       "      <th>OverTime_No</th>\n",
       "      <th>OverTime_Yes</th>\n",
       "    </tr>\n",
       "  </thead>\n",
       "  <tbody>\n",
       "    <tr>\n",
       "      <th>0</th>\n",
       "      <td>0</td>\n",
       "      <td>37</td>\n",
       "      <td>1</td>\n",
       "      <td>4</td>\n",
       "      <td>1</td>\n",
       "      <td>2</td>\n",
       "      <td>2</td>\n",
       "      <td>3</td>\n",
       "      <td>5993</td>\n",
       "      <td>1</td>\n",
       "      <td>...</td>\n",
       "      <td>1</td>\n",
       "      <td>0</td>\n",
       "      <td>0</td>\n",
       "      <td>0</td>\n",
       "      <td>0</td>\n",
       "      <td>1</td>\n",
       "      <td>0</td>\n",
       "      <td>0</td>\n",
       "      <td>1</td>\n",
       "      <td>0</td>\n",
       "    </tr>\n",
       "    <tr>\n",
       "      <th>1</th>\n",
       "      <td>1</td>\n",
       "      <td>54</td>\n",
       "      <td>1</td>\n",
       "      <td>4</td>\n",
       "      <td>4</td>\n",
       "      <td>3</td>\n",
       "      <td>3</td>\n",
       "      <td>3</td>\n",
       "      <td>10502</td>\n",
       "      <td>7</td>\n",
       "      <td>...</td>\n",
       "      <td>1</td>\n",
       "      <td>0</td>\n",
       "      <td>0</td>\n",
       "      <td>0</td>\n",
       "      <td>0</td>\n",
       "      <td>1</td>\n",
       "      <td>0</td>\n",
       "      <td>0</td>\n",
       "      <td>1</td>\n",
       "      <td>0</td>\n",
       "    </tr>\n",
       "    <tr>\n",
       "      <th>2</th>\n",
       "      <td>2</td>\n",
       "      <td>34</td>\n",
       "      <td>7</td>\n",
       "      <td>3</td>\n",
       "      <td>1</td>\n",
       "      <td>1</td>\n",
       "      <td>2</td>\n",
       "      <td>3</td>\n",
       "      <td>6074</td>\n",
       "      <td>1</td>\n",
       "      <td>...</td>\n",
       "      <td>0</td>\n",
       "      <td>0</td>\n",
       "      <td>0</td>\n",
       "      <td>0</td>\n",
       "      <td>0</td>\n",
       "      <td>0</td>\n",
       "      <td>0</td>\n",
       "      <td>1</td>\n",
       "      <td>0</td>\n",
       "      <td>1</td>\n",
       "    </tr>\n",
       "    <tr>\n",
       "      <th>3</th>\n",
       "      <td>3</td>\n",
       "      <td>39</td>\n",
       "      <td>1</td>\n",
       "      <td>1</td>\n",
       "      <td>4</td>\n",
       "      <td>2</td>\n",
       "      <td>4</td>\n",
       "      <td>4</td>\n",
       "      <td>12742</td>\n",
       "      <td>1</td>\n",
       "      <td>...</td>\n",
       "      <td>1</td>\n",
       "      <td>0</td>\n",
       "      <td>0</td>\n",
       "      <td>0</td>\n",
       "      <td>0</td>\n",
       "      <td>0</td>\n",
       "      <td>1</td>\n",
       "      <td>0</td>\n",
       "      <td>1</td>\n",
       "      <td>0</td>\n",
       "    </tr>\n",
       "    <tr>\n",
       "      <th>4</th>\n",
       "      <td>4</td>\n",
       "      <td>28</td>\n",
       "      <td>1</td>\n",
       "      <td>3</td>\n",
       "      <td>1</td>\n",
       "      <td>2</td>\n",
       "      <td>1</td>\n",
       "      <td>2</td>\n",
       "      <td>2596</td>\n",
       "      <td>1</td>\n",
       "      <td>...</td>\n",
       "      <td>0</td>\n",
       "      <td>0</td>\n",
       "      <td>0</td>\n",
       "      <td>0</td>\n",
       "      <td>0</td>\n",
       "      <td>1</td>\n",
       "      <td>0</td>\n",
       "      <td>0</td>\n",
       "      <td>1</td>\n",
       "      <td>0</td>\n",
       "    </tr>\n",
       "  </tbody>\n",
       "</table>\n",
       "<p>5 rows × 50 columns</p>\n",
       "</div>"
      ],
      "text/plain": [
       "   ID  Age  DistanceFromHome  Education  EnvironmentSatisfaction  \\\n",
       "0   0   37                 1          4                        1   \n",
       "1   1   54                 1          4                        4   \n",
       "2   2   34                 7          3                        1   \n",
       "3   3   39                 1          1                        4   \n",
       "4   4   28                 1          3                        1   \n",
       "\n",
       "   JobInvolvement  JobLevel  JobSatisfaction  MonthlyIncome  \\\n",
       "0               2         2                3           5993   \n",
       "1               3         3                3          10502   \n",
       "2               1         2                3           6074   \n",
       "3               2         4                4          12742   \n",
       "4               2         1                2           2596   \n",
       "\n",
       "   NumCompaniesWorked  ...  JobRole_Manufacturing Director  \\\n",
       "0                   1  ...                               1   \n",
       "1                   7  ...                               1   \n",
       "2                   1  ...                               0   \n",
       "3                   1  ...                               1   \n",
       "4                   1  ...                               0   \n",
       "\n",
       "   JobRole_Research Director  JobRole_Research Scientist  \\\n",
       "0                          0                           0   \n",
       "1                          0                           0   \n",
       "2                          0                           0   \n",
       "3                          0                           0   \n",
       "4                          0                           0   \n",
       "\n",
       "   JobRole_Sales Executive  JobRole_Sales Representative  \\\n",
       "0                        0                             0   \n",
       "1                        0                             0   \n",
       "2                        0                             0   \n",
       "3                        0                             0   \n",
       "4                        0                             0   \n",
       "\n",
       "   MaritalStatus_Divorced  MaritalStatus_Married  MaritalStatus_Single  \\\n",
       "0                       1                      0                     0   \n",
       "1                       1                      0                     0   \n",
       "2                       0                      0                     1   \n",
       "3                       0                      1                     0   \n",
       "4                       1                      0                     0   \n",
       "\n",
       "   OverTime_No  OverTime_Yes  \n",
       "0            1             0  \n",
       "1            1             0  \n",
       "2            0             1  \n",
       "3            1             0  \n",
       "4            1             0  \n",
       "\n",
       "[5 rows x 50 columns]"
      ]
     },
     "execution_count": 286,
     "metadata": {},
     "output_type": "execute_result"
    }
   ],
   "source": [
    "data.head()"
   ]
  },
  {
   "cell_type": "markdown",
   "metadata": {},
   "source": [
    "接下来对连续变量进行一定的处理"
   ]
  },
  {
   "cell_type": "markdown",
   "metadata": {},
   "source": [
    "观察各个int类型的离职率"
   ]
  },
  {
   "cell_type": "code",
   "execution_count": 287,
   "metadata": {},
   "outputs": [
    {
     "name": "stdout",
     "output_type": "stream",
     "text": [
      "ID:\n",
      "2       1.0\n",
      "837     1.0\n",
      "688     1.0\n",
      "695     1.0\n",
      "697     1.0\n",
      "       ... \n",
      "1092    NaN\n",
      "1094    NaN\n",
      "1095    NaN\n",
      "1096    NaN\n",
      "1097    NaN\n",
      "Name: ID, Length: 1100, dtype: float64\n",
      "Age:\n",
      "21    0.714286\n",
      "19    0.625000\n",
      "20    0.500000\n",
      "58    0.428571\n",
      "22    0.416667\n",
      "23    0.400000\n",
      "26    0.322581\n",
      "28    0.285714\n",
      "29    0.272727\n",
      "31    0.270833\n",
      "33    0.255319\n",
      "25    0.250000\n",
      "24    0.222222\n",
      "30    0.187500\n",
      "44    0.181818\n",
      "55    0.176471\n",
      "32    0.170213\n",
      "52    0.166667\n",
      "39    0.166667\n",
      "41    0.161290\n",
      "56    0.153846\n",
      "53    0.153846\n",
      "34    0.132075\n",
      "47    0.125000\n",
      "51    0.125000\n",
      "46    0.120000\n",
      "35    0.118644\n",
      "37    0.108108\n",
      "49    0.090909\n",
      "36    0.072727\n",
      "45    0.066667\n",
      "40    0.063830\n",
      "42    0.058824\n",
      "27    0.052632\n",
      "38    0.051282\n",
      "50    0.043478\n",
      "43    0.040000\n",
      "18         NaN\n",
      "48         NaN\n",
      "54         NaN\n",
      "57         NaN\n",
      "59         NaN\n",
      "60         NaN\n",
      "Name: Age, dtype: float64\n",
      "DistanceFromHome:\n",
      "12    0.428571\n",
      "24    0.400000\n",
      "22    0.333333\n",
      "13    0.294118\n",
      "27    0.272727\n",
      "25    0.263158\n",
      "16    0.230769\n",
      "29    0.217391\n",
      "20    0.210526\n",
      "17    0.200000\n",
      "23    0.200000\n",
      "9     0.189655\n",
      "11    0.181818\n",
      "3     0.174603\n",
      "19    0.166667\n",
      "21    0.166667\n",
      "10    0.147059\n",
      "2     0.144654\n",
      "4     0.142857\n",
      "18    0.142857\n",
      "6     0.127660\n",
      "14    0.125000\n",
      "5     0.122449\n",
      "1     0.118056\n",
      "8     0.114754\n",
      "26    0.105263\n",
      "15    0.100000\n",
      "7     0.090909\n",
      "28    0.066667\n",
      "Name: DistanceFromHome, dtype: float64\n",
      "Education:\n",
      "1    0.214286\n",
      "3    0.167053\n",
      "4    0.156146\n",
      "2    0.145631\n",
      "5    0.055556\n",
      "Name: Education, dtype: float64\n",
      "EnvironmentSatisfaction:\n",
      "1    0.246512\n",
      "2    0.157143\n",
      "4    0.139053\n",
      "3    0.133531\n",
      "Name: EnvironmentSatisfaction, dtype: float64\n",
      "JobInvolvement:\n",
      "1    0.380952\n",
      "2    0.168498\n",
      "3    0.146747\n",
      "4    0.106796\n",
      "Name: JobInvolvement, dtype: float64\n",
      "JobLevel:\n",
      "1    0.259709\n",
      "3    0.127389\n",
      "2    0.107769\n",
      "5    0.098039\n",
      "4    0.037037\n",
      "Name: JobLevel, dtype: float64\n",
      "JobSatisfaction:\n",
      "1    0.242009\n",
      "2    0.174757\n",
      "3    0.156923\n",
      "4    0.108571\n",
      "Name: JobSatisfaction, dtype: float64\n",
      "MonthlyIncome:\n",
      "1009     1.0\n",
      "4834     1.0\n",
      "4382     1.0\n",
      "4508     1.0\n",
      "4559     1.0\n",
      "        ... \n",
      "19717    NaN\n",
      "19833    NaN\n",
      "19926    NaN\n",
      "19943    NaN\n",
      "19999    NaN\n",
      "Name: MonthlyIncome, Length: 1028, dtype: float64\n",
      "NumCompaniesWorked:\n",
      "5    0.244444\n",
      "7    0.232143\n",
      "6    0.211538\n",
      "1    0.194872\n",
      "9    0.189189\n",
      "4    0.148515\n",
      "8    0.121951\n",
      "0    0.119205\n",
      "2    0.115044\n",
      "3    0.078947\n",
      "Name: NumCompaniesWorked, dtype: float64\n",
      "PercentSalaryHike:\n",
      "24    0.416667\n",
      "23    0.277778\n",
      "22    0.244444\n",
      "15    0.205479\n",
      "12    0.179856\n",
      "11    0.179487\n",
      "17    0.173913\n",
      "16    0.166667\n",
      "13    0.160494\n",
      "20    0.159091\n",
      "18    0.154930\n",
      "21    0.142857\n",
      "19    0.120690\n",
      "14    0.073333\n",
      "25    0.071429\n",
      "Name: PercentSalaryHike, dtype: float64\n",
      "PerformanceRating:\n",
      "4    0.202381\n",
      "3    0.154506\n",
      "Name: PerformanceRating, dtype: float64\n",
      "RelationshipSatisfaction:\n",
      "1    0.204545\n",
      "3    0.158824\n",
      "2    0.152074\n",
      "4    0.142415\n",
      "Name: RelationshipSatisfaction, dtype: float64\n",
      "StandardHours:\n",
      "80    0.161818\n",
      "Name: StandardHours, dtype: float64\n",
      "StockOptionLevel:\n",
      "0    0.251586\n",
      "3    0.220339\n",
      "1    0.085202\n",
      "2    0.065574\n",
      "Name: StockOptionLevel, dtype: float64\n",
      "TotalWorkingYears:\n",
      "40    1.000000\n",
      "1     0.522388\n",
      "2     0.285714\n",
      "11    0.280000\n",
      "7     0.261538\n",
      "34    0.250000\n",
      "31    0.200000\n",
      "0     0.200000\n",
      "3     0.187500\n",
      "4     0.183673\n",
      "8     0.175000\n",
      "5     0.161765\n",
      "6     0.160920\n",
      "24    0.142857\n",
      "12    0.142857\n",
      "33    0.142857\n",
      "9     0.130435\n",
      "13    0.125000\n",
      "15    0.121212\n",
      "19    0.117647\n",
      "10    0.112500\n",
      "26    0.111111\n",
      "18    0.111111\n",
      "22    0.100000\n",
      "14    0.095238\n",
      "23    0.058824\n",
      "17    0.047619\n",
      "20    0.045455\n",
      "16    0.037037\n",
      "21         NaN\n",
      "25         NaN\n",
      "27         NaN\n",
      "28         NaN\n",
      "29         NaN\n",
      "30         NaN\n",
      "32         NaN\n",
      "35         NaN\n",
      "36         NaN\n",
      "37         NaN\n",
      "38         NaN\n",
      "Name: TotalWorkingYears, dtype: float64\n",
      "TrainingTimesLastYear:\n",
      "0    0.250000\n",
      "4    0.191489\n",
      "2    0.181818\n",
      "3    0.145119\n",
      "6    0.125000\n",
      "5    0.123596\n",
      "1    0.100000\n",
      "Name: TrainingTimesLastYear, dtype: float64\n",
      "WorkLifeBalance:\n",
      "1    0.269841\n",
      "4    0.194175\n",
      "2    0.175781\n",
      "3    0.141593\n",
      "Name: WorkLifeBalance, dtype: float64\n",
      "YearsAtCompany:\n",
      "1     0.358209\n",
      "32    0.333333\n",
      "31    0.333333\n",
      "0     0.266667\n",
      "24    0.250000\n",
      "2     0.212766\n",
      "33    0.200000\n",
      "6     0.153846\n",
      "10    0.152174\n",
      "4     0.150000\n",
      "3     0.144330\n",
      "13    0.133333\n",
      "5     0.132450\n",
      "7     0.128571\n",
      "16    0.125000\n",
      "19    0.125000\n",
      "9     0.109375\n",
      "11    0.105263\n",
      "8     0.101695\n",
      "21    0.100000\n",
      "22    0.076923\n",
      "12         NaN\n",
      "14         NaN\n",
      "15         NaN\n",
      "17         NaN\n",
      "18         NaN\n",
      "20         NaN\n",
      "25         NaN\n",
      "26         NaN\n",
      "27         NaN\n",
      "29         NaN\n",
      "30         NaN\n",
      "34         NaN\n",
      "36         NaN\n",
      "37         NaN\n",
      "Name: YearsAtCompany, dtype: float64\n",
      "YearsInCurrentRole:\n",
      "15    0.333333\n",
      "0     0.288043\n",
      "1     0.219512\n",
      "2     0.189091\n",
      "4     0.168675\n",
      "7     0.133333\n",
      "12    0.125000\n",
      "14    0.125000\n",
      "3     0.121495\n",
      "9     0.080000\n",
      "8     0.072464\n",
      "10    0.066667\n",
      "6     0.038462\n",
      "5          NaN\n",
      "11         NaN\n",
      "13         NaN\n",
      "16         NaN\n",
      "17         NaN\n",
      "18         NaN\n",
      "Name: YearsInCurrentRole, dtype: float64\n",
      "YearsSinceLastPromotion:\n",
      "6     0.250000\n",
      "7     0.206897\n",
      "13    0.200000\n",
      "0     0.191011\n",
      "3     0.175000\n",
      "2     0.162602\n",
      "1     0.149606\n",
      "9     0.142857\n",
      "15    0.090909\n",
      "5     0.083333\n",
      "4     0.069767\n",
      "8          NaN\n",
      "10         NaN\n",
      "11         NaN\n",
      "12         NaN\n",
      "14         NaN\n",
      "Name: YearsSinceLastPromotion, dtype: float64\n",
      "YearsWithCurrManager:\n",
      "0     0.319797\n",
      "14    0.250000\n",
      "1     0.169492\n",
      "4     0.150685\n",
      "7     0.147239\n",
      "2     0.138462\n",
      "3     0.134615\n",
      "9     0.130435\n",
      "5     0.100000\n",
      "6     0.100000\n",
      "8     0.083333\n",
      "10    0.058824\n",
      "11    0.055556\n",
      "12         NaN\n",
      "13         NaN\n",
      "15         NaN\n",
      "16         NaN\n",
      "17         NaN\n",
      "Name: YearsWithCurrManager, dtype: float64\n",
      "Label:\n",
      "1    1.0\n",
      "0    NaN\n",
      "Name: Label, dtype: float64\n"
     ]
    }
   ],
   "source": [
    "#越年轻离职率相对越高；教育程度越低离职率也相对较高；\n",
    "for i in train.columns:\n",
    "    if train[i].dtype=='int64':\n",
    "        print(i+':')\n",
    "        print((train[train['Label'] == 1.0][i].value_counts()/train[i].value_counts()).sort_values(ascending = False))"
   ]
  },
  {
   "cell_type": "markdown",
   "metadata": {},
   "source": [
    "观察发现，越年轻，越容易离职，教育程度越低，离职率也较高"
   ]
  },
  {
   "cell_type": "markdown",
   "metadata": {},
   "source": [
    "现在对年龄离职分布进行可视化"
   ]
  },
  {
   "cell_type": "code",
   "execution_count": 288,
   "metadata": {},
   "outputs": [
    {
     "data": {
      "text/plain": [
       "<AxesSubplot:xlabel='Age', ylabel='Label'>"
      ]
     },
     "execution_count": 288,
     "metadata": {},
     "output_type": "execute_result"
    },
    {
     "data": {
      "image/png": "[encoded data removed]",
      "text/plain": [
       "<Figure size 1400x500 with 1 Axes>"
      ]
     },
     "metadata": {},
     "output_type": "display_data"
    }
   ],
   "source": [
    "plt.figure(figsize=(14,5))\n",
    "sns.barplot(x='Age',y='Label',data=train)"
   ]
  },
  {
   "cell_type": "markdown",
   "metadata": {},
   "source": [
    "根据可视化图重设年龄分组"
   ]
  },
  {
   "cell_type": "code",
   "execution_count": 289,
   "metadata": {},
   "outputs": [],
   "source": [
    "def resetAge(input):\n",
    "    if ((input < 24) & (input > 18)) | (input == 58):\n",
    "        return 1\n",
    "    elif (input == 18) | (input == 48) |(input == 54) | (input == 57) | (input > 58) :\n",
    "        return 0\n",
    "    else:\n",
    "        return 2"
   ]
  },
  {
   "cell_type": "markdown",
   "metadata": {},
   "source": [
    "现在对薪酬进行可视化"
   ]
  },
  {
   "cell_type": "code",
   "execution_count": 290,
   "metadata": {},
   "outputs": [
    {
     "data": {
      "text/plain": [
       "(0.0, 19999.0)"
      ]
     },
     "execution_count": 290,
     "metadata": {},
     "output_type": "execute_result"
    },
    {
     "data": {
      "image/png": "[encoded data removed]",
      "text/plain": [
       "<Figure size 1000x500 with 1 Axes>"
      ]
     },
     "metadata": {},
     "output_type": "display_data"
    }
   ],
   "source": [
    "f,ax=plt.subplots(figsize=(10,5))\n",
    "sns.kdeplot(train.loc[train['Label']==0,'MonthlyIncome'],color='red',shade=True,label='Label_0')\n",
    "sns.kdeplot(train.loc[train['Label']==1,'MonthlyIncome'],color='blue',shade=True,label='Label_1')\n",
    "plt.title('MonthlyIncome',fontsize=15)\n",
    "plt.xlabel('MonthlyIncome',fontsize=15)\n",
    "plt.ylabel('Frequency',fontsize=15)\n",
    "plt.xlim(0,train['MonthlyIncome'].max())"
   ]
  },
  {
   "cell_type": "markdown",
   "metadata": {},
   "source": [
    "发现3750频率上升，之后频率下降，重设薪酬分组"
   ]
  },
  {
   "cell_type": "code",
   "execution_count": 291,
   "metadata": {},
   "outputs": [],
   "source": [
    "def resetSalary(input):\n",
    "    if (input>0) & (input<3725):\n",
    "        return 0\n",
    "    elif (input>=3725) & (input<111250):\n",
    "        return 1\n",
    "    else:\n",
    "        return 2"
   ]
  },
  {
   "cell_type": "markdown",
   "metadata": {},
   "source": [
    "现在对工资提成的离职情况分布进行可视化"
   ]
  },
  {
   "cell_type": "code",
   "execution_count": 292,
   "metadata": {},
   "outputs": [
    {
     "data": {
      "text/plain": [
       "<AxesSubplot:xlabel='PercentSalaryHike', ylabel='Label'>"
      ]
     },
     "execution_count": 292,
     "metadata": {},
     "output_type": "execute_result"
    },
    {
     "data": {
      "image/png": "[encoded data removed]",
      "text/plain": [
       "<Figure size 1400x500 with 1 Axes>"
      ]
     },
     "metadata": {},
     "output_type": "display_data"
    }
   ],
   "source": [
    "plt.figure(figsize=(14,5))\n",
    "sns.barplot(x='PercentSalaryHike',y='Label',data=train)"
   ]
  },
  {
   "cell_type": "markdown",
   "metadata": {},
   "source": [
    "22,23,24离职率较高，14,25较低\n",
    "重设工资提高百分比分组"
   ]
  },
  {
   "cell_type": "code",
   "execution_count": 293,
   "metadata": {},
   "outputs": [],
   "source": [
    "def resetPerHike(input):\n",
    "    if (input>=22) & (input<25):\n",
    "        return 0\n",
    "    elif ((input>=11) & (input<14)) |((input>14) & (input <22)):\n",
    "        return 1\n",
    "    else:\n",
    "        return 2"
   ]
  },
  {
   "cell_type": "markdown",
   "metadata": {},
   "source": [
    "我猜测离职与开始工作年龄有关，对其进行构建并可视化"
   ]
  },
  {
   "cell_type": "code",
   "execution_count": 294,
   "metadata": {},
   "outputs": [
    {
     "data": {
      "text/plain": [
       "<AxesSubplot:xlabel='StartWorking', ylabel='Label'>"
      ]
     },
     "execution_count": 294,
     "metadata": {},
     "output_type": "execute_result"
    },
    {
     "data": {
      "image/png": "[encoded data removed]",
      "text/plain": [
       "<Figure size 1400x500 with 1 Axes>"
      ]
     },
     "metadata": {},
     "output_type": "display_data"
    }
   ],
   "source": [
    "data['StartWorking']=data['Age']-data['TotalWorkingYears']\n",
    "plt.figure(figsize=(14,5))\n",
    "sns.barplot(x='StartWorking',y='Label',data=data.iloc[:train.shape[0]])"
   ]
  },
  {
   "cell_type": "markdown",
   "metadata": {},
   "source": [
    "49,51较为突出，22,27,31,40，37 离职率中等，其余较低或没有数值\n",
    "重设开始工作年龄分组"
   ]
  },
  {
   "cell_type": "code",
   "execution_count": 295,
   "metadata": {},
   "outputs": [],
   "source": [
    "def resetStart(input):\n",
    "    if (input==49)|(input==51):\n",
    "        return 3\n",
    "    elif (input==22)|(input==27)|(input==31)|(input==40):\n",
    "        return 2\n",
    "    elif (input==42)|((input>43)&(input<49))|(input==50)|(input>=52):\n",
    "        return 0\n",
    "    else:\n",
    "        return 1"
   ]
  },
  {
   "cell_type": "markdown",
   "metadata": {},
   "source": [
    "晋升时长也许也有关"
   ]
  },
  {
   "cell_type": "code",
   "execution_count": 296,
   "metadata": {},
   "outputs": [
    {
     "data": {
      "text/plain": [
       "<AxesSubplot:xlabel='YearsBeforeCurrentRole', ylabel='Label'>"
      ]
     },
     "execution_count": 296,
     "metadata": {},
     "output_type": "execute_result"
    },
    {
     "data": {
      "image/png": "[encoded data removed]",
      "text/plain": [
       "<Figure size 1400x500 with 1 Axes>"
      ]
     },
     "metadata": {},
     "output_type": "display_data"
    }
   ],
   "source": [
    "data['YearsBeforeCurrentRole']=data['YearsAtCompany']-data['YearsInCurrentRole']\n",
    "plt.figure(figsize=(14,5))\n",
    "sns.barplot(x='YearsBeforeCurrentRole',y='Label',data=data.iloc[:train.shape[0]])"
   ]
  },
  {
   "cell_type": "markdown",
   "metadata": {},
   "source": [
    "18年特别突出，4,5比较小\n",
    "进行重设"
   ]
  },
  {
   "cell_type": "code",
   "execution_count": 297,
   "metadata": {},
   "outputs": [],
   "source": [
    "def resetYearsBefore(input):\n",
    "    if (input==18):\n",
    "        return 3\n",
    "    elif (input<=3)|((input>=6)&(input<=10))|(input==12)|(input==14)|(input==16)|(input==26):\n",
    "        return 2\n",
    "    elif (input==4)|(input==5):\n",
    "        return 1\n",
    "    else:\n",
    "        return 0"
   ]
  },
  {
   "cell_type": "markdown",
   "metadata": {},
   "source": [
    "将标签重设"
   ]
  },
  {
   "cell_type": "code",
   "execution_count": 298,
   "metadata": {},
   "outputs": [],
   "source": [
    "data['Age']=data['Age'].apply(resetAge)\n",
    "data['MonthlyIncome']=data['MonthlyIncome'].apply(resetSalary)\n",
    "data['PercentSalaryHike']=data['PercentSalaryHike'].apply(resetPerHike)\n",
    "data['StartWorking']=data['StartWorking'].apply(resetStart)\n",
    "data['YearsBeforeCurrentRole']=data['YearsBeforeCurrentRole'].apply(resetYearsBefore)"
   ]
  },
  {
   "cell_type": "code",
   "execution_count": 299,
   "metadata": {},
   "outputs": [
    {
     "data": {
      "text/html": [
       "<div>\n",
       "<style scoped>\n",
       "    .dataframe tbody tr th:only-of-type {\n",
       "        vertical-align: middle;\n",
       "    }\n",
       "\n",
       "    .dataframe tbody tr th {\n",
       "        vertical-align: top;\n",
       "    }\n",
       "\n",
       "    .dataframe thead th {\n",
       "        text-align: right;\n",
       "    }\n",
       "</style>\n",
       "<table border=\"1\" class=\"dataframe\">\n",
       "  <thead>\n",
       "    <tr style=\"text-align: right;\">\n",
       "      <th></th>\n",
       "      <th>ID</th>\n",
       "      <th>Age</th>\n",
       "      <th>DistanceFromHome</th>\n",
       "      <th>Education</th>\n",
       "      <th>EnvironmentSatisfaction</th>\n",
       "      <th>JobInvolvement</th>\n",
       "      <th>JobLevel</th>\n",
       "      <th>JobSatisfaction</th>\n",
       "      <th>MonthlyIncome</th>\n",
       "      <th>NumCompaniesWorked</th>\n",
       "      <th>...</th>\n",
       "      <th>JobRole_Research Scientist</th>\n",
       "      <th>JobRole_Sales Executive</th>\n",
       "      <th>JobRole_Sales Representative</th>\n",
       "      <th>MaritalStatus_Divorced</th>\n",
       "      <th>MaritalStatus_Married</th>\n",
       "      <th>MaritalStatus_Single</th>\n",
       "      <th>OverTime_No</th>\n",
       "      <th>OverTime_Yes</th>\n",
       "      <th>StartWorking</th>\n",
       "      <th>YearsBeforeCurrentRole</th>\n",
       "    </tr>\n",
       "  </thead>\n",
       "  <tbody>\n",
       "    <tr>\n",
       "      <th>0</th>\n",
       "      <td>0</td>\n",
       "      <td>2</td>\n",
       "      <td>1</td>\n",
       "      <td>4</td>\n",
       "      <td>1</td>\n",
       "      <td>2</td>\n",
       "      <td>2</td>\n",
       "      <td>3</td>\n",
       "      <td>1</td>\n",
       "      <td>1</td>\n",
       "      <td>...</td>\n",
       "      <td>0</td>\n",
       "      <td>0</td>\n",
       "      <td>0</td>\n",
       "      <td>1</td>\n",
       "      <td>0</td>\n",
       "      <td>0</td>\n",
       "      <td>1</td>\n",
       "      <td>0</td>\n",
       "      <td>1</td>\n",
       "      <td>2</td>\n",
       "    </tr>\n",
       "    <tr>\n",
       "      <th>1</th>\n",
       "      <td>1</td>\n",
       "      <td>0</td>\n",
       "      <td>1</td>\n",
       "      <td>4</td>\n",
       "      <td>4</td>\n",
       "      <td>3</td>\n",
       "      <td>3</td>\n",
       "      <td>3</td>\n",
       "      <td>1</td>\n",
       "      <td>7</td>\n",
       "      <td>...</td>\n",
       "      <td>0</td>\n",
       "      <td>0</td>\n",
       "      <td>0</td>\n",
       "      <td>1</td>\n",
       "      <td>0</td>\n",
       "      <td>0</td>\n",
       "      <td>1</td>\n",
       "      <td>0</td>\n",
       "      <td>1</td>\n",
       "      <td>2</td>\n",
       "    </tr>\n",
       "    <tr>\n",
       "      <th>2</th>\n",
       "      <td>2</td>\n",
       "      <td>2</td>\n",
       "      <td>7</td>\n",
       "      <td>3</td>\n",
       "      <td>1</td>\n",
       "      <td>1</td>\n",
       "      <td>2</td>\n",
       "      <td>3</td>\n",
       "      <td>1</td>\n",
       "      <td>1</td>\n",
       "      <td>...</td>\n",
       "      <td>0</td>\n",
       "      <td>0</td>\n",
       "      <td>0</td>\n",
       "      <td>0</td>\n",
       "      <td>0</td>\n",
       "      <td>1</td>\n",
       "      <td>0</td>\n",
       "      <td>1</td>\n",
       "      <td>1</td>\n",
       "      <td>2</td>\n",
       "    </tr>\n",
       "    <tr>\n",
       "      <th>3</th>\n",
       "      <td>3</td>\n",
       "      <td>2</td>\n",
       "      <td>1</td>\n",
       "      <td>1</td>\n",
       "      <td>4</td>\n",
       "      <td>2</td>\n",
       "      <td>4</td>\n",
       "      <td>4</td>\n",
       "      <td>1</td>\n",
       "      <td>1</td>\n",
       "      <td>...</td>\n",
       "      <td>0</td>\n",
       "      <td>0</td>\n",
       "      <td>0</td>\n",
       "      <td>0</td>\n",
       "      <td>1</td>\n",
       "      <td>0</td>\n",
       "      <td>1</td>\n",
       "      <td>0</td>\n",
       "      <td>1</td>\n",
       "      <td>0</td>\n",
       "    </tr>\n",
       "    <tr>\n",
       "      <th>4</th>\n",
       "      <td>4</td>\n",
       "      <td>2</td>\n",
       "      <td>1</td>\n",
       "      <td>3</td>\n",
       "      <td>1</td>\n",
       "      <td>2</td>\n",
       "      <td>1</td>\n",
       "      <td>2</td>\n",
       "      <td>0</td>\n",
       "      <td>1</td>\n",
       "      <td>...</td>\n",
       "      <td>0</td>\n",
       "      <td>0</td>\n",
       "      <td>0</td>\n",
       "      <td>1</td>\n",
       "      <td>0</td>\n",
       "      <td>0</td>\n",
       "      <td>1</td>\n",
       "      <td>0</td>\n",
       "      <td>2</td>\n",
       "      <td>2</td>\n",
       "    </tr>\n",
       "  </tbody>\n",
       "</table>\n",
       "<p>5 rows × 52 columns</p>\n",
       "</div>"
      ],
      "text/plain": [
       "   ID  Age  DistanceFromHome  Education  EnvironmentSatisfaction  \\\n",
       "0   0    2                 1          4                        1   \n",
       "1   1    0                 1          4                        4   \n",
       "2   2    2                 7          3                        1   \n",
       "3   3    2                 1          1                        4   \n",
       "4   4    2                 1          3                        1   \n",
       "\n",
       "   JobInvolvement  JobLevel  JobSatisfaction  MonthlyIncome  \\\n",
       "0               2         2                3              1   \n",
       "1               3         3                3              1   \n",
       "2               1         2                3              1   \n",
       "3               2         4                4              1   \n",
       "4               2         1                2              0   \n",
       "\n",
       "   NumCompaniesWorked  ...  JobRole_Research Scientist  \\\n",
       "0                   1  ...                           0   \n",
       "1                   7  ...                           0   \n",
       "2                   1  ...                           0   \n",
       "3                   1  ...                           0   \n",
       "4                   1  ...                           0   \n",
       "\n",
       "   JobRole_Sales Executive  JobRole_Sales Representative  \\\n",
       "0                        0                             0   \n",
       "1                        0                             0   \n",
       "2                        0                             0   \n",
       "3                        0                             0   \n",
       "4                        0                             0   \n",
       "\n",
       "   MaritalStatus_Divorced  MaritalStatus_Married  MaritalStatus_Single  \\\n",
       "0                       1                      0                     0   \n",
       "1                       1                      0                     0   \n",
       "2                       0                      0                     1   \n",
       "3                       0                      1                     0   \n",
       "4                       1                      0                     0   \n",
       "\n",
       "   OverTime_No  OverTime_Yes  StartWorking  YearsBeforeCurrentRole  \n",
       "0            1             0             1                       2  \n",
       "1            1             0             1                       2  \n",
       "2            0             1             1                       2  \n",
       "3            1             0             1                       0  \n",
       "4            1             0             2                       2  \n",
       "\n",
       "[5 rows x 52 columns]"
      ]
     },
     "execution_count": 299,
     "metadata": {},
     "output_type": "execute_result"
    }
   ],
   "source": [
    "data.head()"
   ]
  },
  {
   "cell_type": "markdown",
   "metadata": {},
   "source": [
    "对数据进行大致处理后，对特征的重要度进行排序"
   ]
  },
  {
   "cell_type": "code",
   "execution_count": 300,
   "metadata": {},
   "outputs": [
    {
     "name": "stdout",
     "output_type": "stream",
     "text": [
      "Features Importance\n",
      "18.69 OverTime_Yes\n",
      "18.69 OverTime_No\n",
      "10.10 MonthlyIncome\n",
      "9.47 TotalWorkingYears\n",
      "9.30 MaritalStatus_Single\n",
      "7.75 JobLevel\n",
      "7.27 YearsInCurrentRole\n",
      "6.90 YearsWithCurrManager\n",
      "6.50 JobRole_Sales Representative\n",
      "6.18 StartWorking\n",
      "5.77 YearsAtCompany\n",
      "5.40 StockOptionLevel\n",
      "4.56 YearsBeforeCurrentRole\n",
      "4.55 PercentSalaryHike\n",
      "4.53 JobSatisfaction\n",
      "4.35 JobInvolvement\n",
      "3.00 MaritalStatus_Divorced\n",
      "2.89 EnvironmentSatisfaction\n",
      "2.84 JobRole_Healthcare Representative\n",
      "2.73 MaritalStatus_Married\n",
      "2.48 DistanceFromHome\n",
      "2.17 Department_Research & Development\n",
      "2.16 BusinessTravel_Travel_Frequently\n",
      "2.07 JobRole_Research Director\n",
      "1.91 JobRole_Manager\n",
      "1.78 Department_Sales\n",
      "1.76 YearsSinceLastPromotion\n",
      "1.74 JobRole_Manufacturing Director\n",
      "1.71 BusinessTravel_Non-Travel\n",
      "1.45 EducationField_Technical Degree\n",
      "1.41 JobRole_Laboratory Technician\n",
      "1.18 EducationField_Human Resources\n",
      "1.10 JobRole_Human Resources\n",
      "1.06 RelationshipSatisfaction\n",
      "1.01 EducationField_Marketing\n",
      "0.98 WorkLifeBalance\n",
      "0.92 PerformanceRating\n",
      "0.91 Education\n",
      "0.89 EducationField_Medical\n",
      "0.82 TrainingTimesLastYear\n",
      "0.58 EducationField_Other\n",
      "0.55 JobRole_Research Scientist\n",
      "0.46 Department_Human Resources\n",
      "0.41 NumCompaniesWorked\n",
      "0.37 EducationField_Life Sciences\n",
      "0.37 BusinessTravel_Travel_Rarely\n",
      "0.26 ID\n",
      "0.24 Gender_Female\n",
      "0.24 Gender_Male\n",
      "0.21 Age\n",
      "0.16 JobRole_Sales Executive\n"
     ]
    }
   ],
   "source": [
    "from sklearn.feature_selection import SelectKBest,f_classif\n",
    "drop_columns=[]\n",
    "num=train.shape[0]\n",
    "target=train['Label'].values\n",
    "features=data.drop(columns=['Label']).columns.tolist()\n",
    "train=data.iloc[:num]\n",
    "selector=SelectKBest(f_classif,k=len(features))\n",
    "selector.fit(train[features],target)\n",
    "scores=-np.log10(selector.pvalues_)\n",
    "indices=np.argsort(scores)[::-1]\n",
    "print('Features Importance')\n",
    "for f in range(len(scores)):\n",
    "    if scores[indices[f]]<=1.00:\n",
    "        drop_columns.append(features[indices[f]])\n",
    "    print('%0.2f %s'%(scores[indices[f]],features[indices[f]]))"
   ]
  },
  {
   "cell_type": "markdown",
   "metadata": {},
   "source": [
    "开始筛选模型"
   ]
  },
  {
   "cell_type": "markdown",
   "metadata": {},
   "source": [
    "分类算法"
   ]
  },
  {
   "cell_type": "code",
   "execution_count": 301,
   "metadata": {},
   "outputs": [
    {
     "name": "stdout",
     "output_type": "stream",
     "text": [
      "rfc的准确率为：0.858(std:0.005)\n",
      "gdbt的准确率为：0.867(std:0.019)\n",
      "cart的准确率为：0.778(std:0.026)\n",
      "knn的准确率为：0.641(std:0.170)\n",
      "svm的准确率为：0.838(std:0.002)\n",
      "lr的准确率为：0.872(std:0.016)\n"
     ]
    }
   ],
   "source": [
    "from sklearn import model_selection\n",
    "from sklearn.model_selection import train_test_split\n",
    "from sklearn.ensemble import RandomForestClassifier,GradientBoostingClassifier\n",
    "from sklearn.tree import DecisionTreeClassifier\n",
    "from sklearn.neighbors import KNeighborsClassifier\n",
    "from sklearn import svm\n",
    "from sklearn.linear_model import LogisticRegression\n",
    "\n",
    "num=train.shape[0]\n",
    "train_val_y=train.iloc[:num]['Label']\n",
    "train_val_x=data.iloc[:num].drop(columns=['Label'])\n",
    "test_x=data.iloc[num:].drop('Label',axis=1)\n",
    "\n",
    "train_x,val_x,train_y,val_y=train_test_split(train_val_y,train_val_x,test_size=0.25,\n",
    "                                            random_state=2)\n",
    "\n",
    "model={}\n",
    "model['rfc']=RandomForestClassifier()\n",
    "model['gdbt']=GradientBoostingClassifier()\n",
    "model['cart']=DecisionTreeClassifier()\n",
    "model['knn']=KNeighborsClassifier()\n",
    "model['svm']=svm.SVC()\n",
    "model['lr']=LogisticRegression()\n",
    "for i in model:\n",
    "    model[i].fit(train_val_x,train_val_y)\n",
    "    score=model_selection.cross_val_score(model[i],train_val_x,train_val_y,cv=5,scoring='accuracy')\n",
    "    print('%s的准确率为：%.3f(std:%.3f)'%(i,score.mean(),score.std()))"
   ]
  },
  {
   "cell_type": "markdown",
   "metadata": {},
   "source": [
    "发现lr最高，其次是gdbt，然后是rfc"
   ]
  },
  {
   "cell_type": "markdown",
   "metadata": {},
   "source": [
    "对分数较高的各个模型进行调参"
   ]
  },
  {
   "cell_type": "code",
   "execution_count": 302,
   "metadata": {},
   "outputs": [
    {
     "name": "stdout",
     "output_type": "stream",
     "text": [
      "rfc :\n",
      "best accuracy:0.856\n",
      "best parameters: {'max_depth': 7, 'min_samples_leaf': 6, 'n_estimators': 250}\n",
      "gbdt :\n",
      "best accuracy:0.872\n",
      "best parameters: {'learning_rate': 0.15, 'max_depth': 5, 'n_estimators': 500}\n",
      "svc :\n",
      "best accuracy:0.881\n",
      "best parameters: {'C': 2, 'gamma': 0.1, 'kernel': 'linear'}\n",
      "lr :\n",
      "best accuracy:0.885\n",
      "best parameters: {'C': 0.1, 'solver': 'newton-cg'}\n"
     ]
    }
   ],
   "source": [
    "from sklearn.model_selection import GridSearchCV\n",
    "model=['rfc','gbdt','svc','lr']\n",
    "\n",
    "temp=[]\n",
    "rfc=RandomForestClassifier(random_state=0)\n",
    "params={'n_estimators':[50,100,150,200,250],'max_depth':[3,5,7],'min_samples_leaf':[2,4,6]}\n",
    "temp.append([rfc,params])\n",
    "\n",
    "gbt=GradientBoostingClassifier(random_state=0)\n",
    "params={'learning_rate':[0.01,0.05,0.1,0.15,0.2],'n_estimators':[100,300,500],\n",
    "       'max_depth':[3,5,7]}\n",
    "temp.append([gbt,params])\n",
    "\n",
    "svc=svm.SVC()\n",
    "params={'kernel':['linear','rbf','sigmoid'],'C':[1,1.2,1.4,1.5,1.8,2],\n",
    "       'gamma':[0.1,0.15,0.2,0.25]}\n",
    "temp.append([svc,params])\n",
    "\n",
    "lr=LogisticRegression()\n",
    "params={'C':[0.01,0.1,0.5,1,2,3,4,5,6],'solver':['newton-cg','lbfgs','sag']}\n",
    "temp.append([lr,params])\n",
    "\n",
    "for i in range(len(model)):\n",
    "    best_model=GridSearchCV(temp[i][0],param_grid=temp[i][1],refit=True,cv=5).fit(train_val_x,train_val_y)\n",
    "    print(model[i],':')\n",
    "    print('best accuracy:%.3f'%(best_model.best_score_))\n",
    "    print('best parameters:',best_model.best_params_)"
   ]
  },
  {
   "cell_type": "markdown",
   "metadata": {},
   "source": [
    "集成分类模型"
   ]
  },
  {
   "cell_type": "code",
   "execution_count": 303,
   "metadata": {},
   "outputs": [
    {
     "name": "stdout",
     "output_type": "stream",
     "text": [
      "集成模型准确率为：0.847(std:0.006)\n"
     ]
    }
   ],
   "source": [
    "from sklearn.ensemble import VotingClassifier\n",
    "\n",
    "models=[('rfc',RandomForestClassifier(max_depth=5,min_samples_leaf=2,n_estimators=50)),\n",
    "     ('gdbt',GradientBoostingClassifier(learning_rate=0.1,max_depth=3,n_estimators=100)),\n",
    "     ('svc',svm.SVC(C=1.5,gamma=0.1,kernel='linear')),\n",
    "     ('lr',LogisticRegression(C=0.5,solver='sag'))]\n",
    "vote=VotingClassifier(models,voting='hard')\n",
    "scores=model_selection.cross_val_score(vote,train_val_x,train_val_y,cv=5,scoring='accuracy')\n",
    "print('集成模型准确率为：%.3f(std:%.3f)'%(scores.mean(),scores.std()))"
   ]
  },
  {
   "cell_type": "markdown",
   "metadata": {},
   "source": [
    "对比各个模型，发现lr模型准确率最高"
   ]
  },
  {
   "cell_type": "code",
   "execution_count": 311,
   "metadata": {},
   "outputs": [],
   "source": [
    "model=LogisticRegression(C=0.1,solver='newton-cg').fit(train_val_x,train_val_y)\n",
    "score=model_selection.cross_val_score(model,train_val_x,train_val_y,cv=10,scoring='accuracy')\n",
    "result=model.predict(test_x).astype('int')"
   ]
  },
  {
   "cell_type": "code",
   "execution_count": 315,
   "metadata": {},
   "outputs": [],
   "source": [
    "test_ID = test['ID']\n",
    "data_predict=pd.DataFrame()\n",
    "data_predict['ID'] = test_ID\n",
    "data_predict['Label']=result\n",
    "data_predict.to_csv('sample.csv')\n",
    "#data_predict=pd.read_csv('sample.csv',index = False)"
   ]
  }
 ],
 "metadata": {
  "kernelspec": {
   "display_name": "Python 3.10.7 64-bit",
   "language": "python",
   "name": "python3"
  },
  "language_info": {
   "codemirror_mode": {
    "name": "ipython",
    "version": 3
   },
   "file_extension": ".py",
   "mimetype": "text/x-python",
   "name": "python",
   "nbconvert_exporter": "python",
   "pygments_lexer": "ipython3",
   "version": "3.10.7"
  },
  "orig_nbformat": 4,
  "vscode": {
   "interpreter": {
    "hash": "4ea1e0e58c1adb5b64757be60c46999bd04d6360f3e9bf68dbafe80a1eb47de5"
   }
  }
 },
 "nbformat": 4,
 "nbformat_minor": 2
}
